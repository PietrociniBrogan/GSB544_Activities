{
 "cells": [
  {
   "cell_type": "raw",
   "metadata": {},
   "source": [
    "---\n",
    "self-contained: true\n",
    "title: \"Practice Activity 9.1\"\n",
    "author: \"Brogan Pietrocini\"\n",
    "fontcolor: black\n",
    "backgroundcolor: whitesmoke\n",
    "format:\n",
    "    html:\n",
    "        theme: zephyr\n",
    "---\n"
   ]
  },
  {
   "cell_type": "code",
   "execution_count": 1,
   "metadata": {
    "id": "jc13Bmcr6Rzz"
   },
   "outputs": [],
   "source": [
    "import pandas as pd\n",
    "import numpy as np\n",
    "from sklearn.pipeline import Pipeline\n",
    "from sklearn.linear_model import LogisticRegression\n",
    "from sklearn.compose import ColumnTransformer, make_column_selector\n",
    "from sklearn.preprocessing import OneHotEncoder, StandardScaler\n",
    "from sklearn.model_selection import train_test_split, GridSearchCV, cross_val_score\n",
    "from sklearn.neighbors import KNeighborsClassifier\n",
    "from sklearn.tree import DecisionTreeClassifier\n",
    "from sklearn.metrics import roc_auc_score\n",
    "from sklearn.model_selection import GridSearchCV\n",
    "from sklearn.metrics import make_scorer, roc_auc_score\n",
    "from sklearn.model_selection import cross_val_predict\n",
    "from sklearn.metrics import confusion_matrix, precision_score, recall_score\n"
   ]
  },
  {
   "cell_type": "markdown",
   "metadata": {
    "id": "F9uql3um69hP"
   },
   "source": [
    "## The Data\n",
    "\n",
    "At this link, you will find a dataset containing information about heart disease patients: https://www.dropbox.com/scl/fi/0vrpdnq5asmeulc4gd50y/ha_1.csv?rlkey=ciisalceotl77ffqhqe3kujzv&dl=1\n",
    "\n",
    "A description of the original dataset can be found here: https://archive.ics.uci.edu/dataset/45/heart+disease (However, this dataset has been cleaned and reduced, and the people have been given fictious names.)"
   ]
  },
  {
   "cell_type": "code",
   "execution_count": 2,
   "metadata": {},
   "outputs": [
    {
     "data": {
      "text/html": [
       "<div>\n",
       "<style scoped>\n",
       "    .dataframe tbody tr th:only-of-type {\n",
       "        vertical-align: middle;\n",
       "    }\n",
       "\n",
       "    .dataframe tbody tr th {\n",
       "        vertical-align: top;\n",
       "    }\n",
       "\n",
       "    .dataframe thead th {\n",
       "        text-align: right;\n",
       "    }\n",
       "</style>\n",
       "<table border=\"1\" class=\"dataframe\">\n",
       "  <thead>\n",
       "    <tr style=\"text-align: right;\">\n",
       "      <th></th>\n",
       "      <th>Name</th>\n",
       "      <th>age</th>\n",
       "      <th>sex</th>\n",
       "      <th>cp</th>\n",
       "      <th>trtbps</th>\n",
       "      <th>chol</th>\n",
       "      <th>restecg</th>\n",
       "      <th>thalach</th>\n",
       "      <th>diagnosis</th>\n",
       "    </tr>\n",
       "  </thead>\n",
       "  <tbody>\n",
       "    <tr>\n",
       "      <th>0</th>\n",
       "      <td>Magnolia Cassin</td>\n",
       "      <td>60</td>\n",
       "      <td>1</td>\n",
       "      <td>1</td>\n",
       "      <td>117</td>\n",
       "      <td>230</td>\n",
       "      <td>1</td>\n",
       "      <td>160</td>\n",
       "      <td>No Disease</td>\n",
       "    </tr>\n",
       "    <tr>\n",
       "      <th>1</th>\n",
       "      <td>Dr. Cathern Heathcote</td>\n",
       "      <td>60</td>\n",
       "      <td>0</td>\n",
       "      <td>3</td>\n",
       "      <td>102</td>\n",
       "      <td>318</td>\n",
       "      <td>1</td>\n",
       "      <td>160</td>\n",
       "      <td>Disease</td>\n",
       "    </tr>\n",
       "    <tr>\n",
       "      <th>2</th>\n",
       "      <td>Miles Wolf</td>\n",
       "      <td>62</td>\n",
       "      <td>0</td>\n",
       "      <td>3</td>\n",
       "      <td>130</td>\n",
       "      <td>263</td>\n",
       "      <td>1</td>\n",
       "      <td>97</td>\n",
       "      <td>No Disease</td>\n",
       "    </tr>\n",
       "    <tr>\n",
       "      <th>3</th>\n",
       "      <td>Mikaila Block</td>\n",
       "      <td>43</td>\n",
       "      <td>1</td>\n",
       "      <td>1</td>\n",
       "      <td>115</td>\n",
       "      <td>303</td>\n",
       "      <td>1</td>\n",
       "      <td>181</td>\n",
       "      <td>Disease</td>\n",
       "    </tr>\n",
       "    <tr>\n",
       "      <th>4</th>\n",
       "      <td>Mrs. Jacquline Marquardt</td>\n",
       "      <td>66</td>\n",
       "      <td>1</td>\n",
       "      <td>1</td>\n",
       "      <td>120</td>\n",
       "      <td>302</td>\n",
       "      <td>0</td>\n",
       "      <td>151</td>\n",
       "      <td>Disease</td>\n",
       "    </tr>\n",
       "  </tbody>\n",
       "</table>\n",
       "</div>"
      ],
      "text/plain": [
       "                       Name  age sex cp  trtbps  chol restecg  thalach  \\\n",
       "0           Magnolia Cassin   60   1  1     117   230       1      160   \n",
       "1     Dr. Cathern Heathcote   60   0  3     102   318       1      160   \n",
       "2                Miles Wolf   62   0  3     130   263       1       97   \n",
       "3             Mikaila Block   43   1  1     115   303       1      181   \n",
       "4  Mrs. Jacquline Marquardt   66   1  1     120   302       0      151   \n",
       "\n",
       "    diagnosis  \n",
       "0  No Disease  \n",
       "1     Disease  \n",
       "2  No Disease  \n",
       "3     Disease  \n",
       "4     Disease  "
      ]
     },
     "execution_count": 2,
     "metadata": {},
     "output_type": "execute_result"
    }
   ],
   "source": [
    "heart = pd.read_csv(\"https://www.dropbox.com/scl/fi/0vrpdnq5asmeulc4gd50y/ha_1.csv?rlkey=ciisalceotl77ffqhqe3kujzv&dl=1\")\n",
    "heart['cp'] = heart['cp'].astype('category')\n",
    "heart['sex'] = heart['sex'].astype('category')\n",
    "heart['restecg'] = heart['restecg'].astype('category')\n",
    "heart.head()"
   ]
  },
  {
   "cell_type": "code",
   "execution_count": 3,
   "metadata": {},
   "outputs": [],
   "source": [
    "X = heart[[\"age\",\"chol\"]]\n",
    "y = heart[\"diagnosis\"]"
   ]
  },
  {
   "cell_type": "code",
   "execution_count": 4,
   "metadata": {},
   "outputs": [],
   "source": [
    "ct = ColumnTransformer(\n",
    "    [\n",
    "        (\"dummify\", OneHotEncoder(sparse_output=False, handle_unknown='ignore'), \n",
    "         make_column_selector(dtype_include=['category', 'object']))      \n",
    "    ],\n",
    "    remainder=\"passthrough\"\n",
    ")\n"
   ]
  },
  {
   "cell_type": "markdown",
   "metadata": {
    "id": "O6wa9AzG7xHW"
   },
   "source": [
    "## 1. Logistic Regression\n",
    "\n",
    "Fit a Logistic Regression using only `age` and `chol` (cholesterol) as predictors.\n",
    "\n",
    "For a 55 year old, how high would their cholesterol need to be for the doctors to predict heart disease is present?\n",
    "\n",
    "How high for the doctors to estimate a 90% chance that heart disease is present?"
   ]
  },
  {
   "cell_type": "code",
   "execution_count": 7,
   "metadata": {
    "scrolled": true
   },
   "outputs": [
    {
     "name": "stdout",
     "output_type": "stream",
     "text": [
      "-3.2401122588589297\n",
      "0.046863306130364435\n",
      "0.0018012385190292537\n"
     ]
    }
   ],
   "source": [
    "#Logistic Regression\n",
    "\n",
    "log_pipeline = Pipeline(\n",
    "    [\n",
    "        (\"preprocessing\", ct),\n",
    "        (\"logistic_regression\", LogisticRegression())\n",
    "    ]\n",
    ")\n",
    "\n",
    "#Fit on data\n",
    "log_pipeline_fitted = log_pipeline.fit(X,y)\n",
    "\n",
    "log_intercept = log_pipeline_fitted.named_steps['logistic_regression'].intercept_[0]\n",
    "log_age = log_pipeline_fitted.named_steps[\"logistic_regression\"].coef_[0][0]\n",
    "log_chol = log_pipeline_fitted.named_steps[\"logistic_regression\"].coef_[0][1]\n",
    "print(log_intercept)\n",
    "print(log_age)\n",
    "print(log_chol)\n"
   ]
  },
  {
   "cell_type": "code",
   "execution_count": 37,
   "metadata": {},
   "outputs": [
    {
     "data": {
      "text/plain": [
       "2.1972245773362196"
      ]
     },
     "execution_count": 37,
     "metadata": {},
     "output_type": "execute_result"
    }
   ],
   "source": [
    "zi = np.log(.9/.1)\n",
    "zi"
   ]
  },
  {
   "cell_type": "markdown",
   "metadata": {},
   "source": [
    "zi = 0.04686age + .002chol - 3.24\n",
    "\n",
    "\n",
    "0 = 0.04686age + .002chol - 3.24"
   ]
  },
  {
   "cell_type": "code",
   "execution_count": 38,
   "metadata": {},
   "outputs": [
    {
     "name": "stdout",
     "output_type": "stream",
     "text": [
      "Minimum cholesterol for doctor to determine heart disease is present = 3229.7744216375436\n"
     ]
    }
   ],
   "source": [
    "#For a 55 year old, how high would their cholesterol need to be for the doctors to predict heart disease is present?\n",
    "age55 = ((log_age*55)-log_intercept)/log_chol\n",
    "print(f\"Minimum cholesterol for doctor to determine heart disease is present = {age55}\")"
   ]
  },
  {
   "cell_type": "code",
   "execution_count": 45,
   "metadata": {},
   "outputs": [
    {
     "name": "stdout",
     "output_type": "stream",
     "text": [
      "Minimum cholesterol for doctor to determine heart disease is present = 1587.7158792753191\n"
     ]
    }
   ],
   "source": [
    "#How high for the doctors to estimate a 90% chance that heart disease is present?\n",
    "age90 = (zi - (log_age*55)-log_intercept)/log_chol\n",
    "print(f\"Minimum cholesterol for doctor to determine heart disease is present = {age90}\")"
   ]
  },
  {
   "cell_type": "markdown",
   "metadata": {
    "id": "t6Gfcspn9EYy"
   },
   "source": [
    "## 2. Linear Discriminant Analysis\n",
    "\n",
    "Fit an LDA model using only `age` and `chol` (cholesterol)  as predictors.\n",
    "\n",
    "For a 55 year old, how high would their cholesterol need to be for the doctors to predict heart disease is present?"
   ]
  },
  {
   "cell_type": "code",
   "execution_count": 48,
   "metadata": {
    "id": "xEE5FPAs9S29"
   },
   "outputs": [
    {
     "name": "stdout",
     "output_type": "stream",
     "text": [
      "-3.2196776604068775\n",
      "0.04655743553694482\n",
      "0.0017896671039291307\n"
     ]
    }
   ],
   "source": [
    "#LDA\n",
    "from sklearn.discriminant_analysis import LinearDiscriminantAnalysis\n",
    "\n",
    "lda_pipeline = Pipeline(\n",
    "    [\n",
    "        (\"preprocessing\", ct),\n",
    "        (\"LDA\", LinearDiscriminantAnalysis())\n",
    "    ]\n",
    ")\n",
    "\n",
    "#Fit on data\n",
    "lda_pipeline_fitted = lda_pipeline.fit(X,y)\n",
    "\n",
    "lda_intercept = lda_pipeline_fitted.named_steps[\"LDA\"].intercept_[0]\n",
    "lda_age = lda_pipeline_fitted.named_steps[\"LDA\"].coef_[0][0]\n",
    "lda_chol = lda_pipeline_fitted.named_steps[\"LDA\"].coef_[0][1]\n",
    "print(lda_intercept)\n",
    "print(lda_age)\n",
    "print(lda_chol)"
   ]
  },
  {
   "cell_type": "code",
   "execution_count": 49,
   "metadata": {},
   "outputs": [
    {
     "name": "stdout",
     "output_type": "stream",
     "text": [
      "Minimum cholesterol for doctor to determine heart disease is present = 3229.8390031578406\n"
     ]
    }
   ],
   "source": [
    "#For a 55 year old, how high would their cholesterol need to be for the doctors to predict heart disease is present?\n",
    "ldaage55 = ((lda_age*55)-lda_intercept)/lda_chol\n",
    "print(f\"Minimum cholesterol for doctor to determine heart disease is present = {ldaage55}\")"
   ]
  },
  {
   "cell_type": "markdown",
   "metadata": {
    "id": "RdRR4Evq9THQ"
   },
   "source": [
    "## 3. Support Vector Classifier\n",
    "\n",
    "Fit an SVC model using only `age` and `chol` as predictors.  Don't forget to tune the regularization parameter.\n",
    "\n",
    "For a 55 year old, how high would their cholesterol need to be for the doctors to predict heart disease is present?"
   ]
  },
  {
   "cell_type": "code",
   "execution_count": 51,
   "metadata": {
    "id": "QM0zJ8JN9XS9"
   },
   "outputs": [
    {
     "name": "stdout",
     "output_type": "stream",
     "text": [
      "-4.686034055211244\n",
      "0.06439772419707879\n",
      "0.0036589616029232275\n"
     ]
    }
   ],
   "source": [
    "from sklearn.svm import SVC\n",
    "\n",
    "svc_pipeline = Pipeline(\n",
    "  [(\"preprocessing\", ct),\n",
    "  (\"SVC\", SVC(kernel = \"linear\"))]\n",
    ")\n",
    "\n",
    "svc_pipeline_fitted = svc_pipeline.fit(X,y)\n",
    "svc_intercept = svc_pipeline_fitted.named_steps[\"SVC\"].intercept_[0]\n",
    "svc_age = svc_pipeline_fitted.named_steps[\"SVC\"].coef_[0][0]\n",
    "svc_chol = svc_pipeline_fitted.named_steps[\"SVC\"].coef_[0][1]\n",
    "print(svc_intercept)\n",
    "print(svc_age)\n",
    "print(svc_chol)"
   ]
  },
  {
   "cell_type": "code",
   "execution_count": 52,
   "metadata": {},
   "outputs": [
    {
     "name": "stdout",
     "output_type": "stream",
     "text": [
      "Minimum cholesterol for doctor to determine heart disease is present = 2248.7005273510154\n"
     ]
    }
   ],
   "source": [
    "#For a 55 year old, how high would their cholesterol need to be for the doctors to predict heart disease is present?\n",
    "svcage55 = ((svc_age*55)-svc_intercept)/svc_chol\n",
    "print(f\"Minimum cholesterol for doctor to determine heart disease is present = {svcage55}\")"
   ]
  },
  {
   "cell_type": "markdown",
   "metadata": {
    "id": "badaMBzw-MsM"
   },
   "source": [
    "## 4. Comparing Decision Boundaries\n",
    "\n",
    "Make a scatterplot of `age` and `chol`, coloring the points by their true disease outcome.  Add a line to the plot representing the **linear separator** (aka **decision boundary**) for each of the three models above."
   ]
  },
  {
   "cell_type": "code",
   "execution_count": 55,
   "metadata": {
    "id": "vVZJwn9s-enf"
   },
   "outputs": [
    {
     "data": {
      "image/png": "[encoded data removed]",
      "text/plain": [
       "<Figure size 640x480 with 1 Axes>"
      ]
     },
     "metadata": {},
     "output_type": "display_data"
    }
   ],
   "source": [
    "import numpy as np\n",
    "import matplotlib.pyplot as plt\n",
    "from sklearn.preprocessing import LabelEncoder\n",
    "\n",
    "# Convert 'No Disease' to 0 and 'Disease' to 1\n",
    "label_encoder = LabelEncoder()\n",
    "heart['diagnosis'] = label_encoder.fit_transform(heart['diagnosis'])\n",
    "\n",
    "\n",
    "plt.scatter(heart[heart['diagnosis'] == 0]['age'], heart[heart['diagnosis'] == 0]['chol'], label='No Disease', color='blue')\n",
    "plt.scatter(heart[heart['diagnosis'] == 1]['age'], heart[heart['diagnosis'] == 1]['chol'], label='Disease', color='red')\n",
    "\n",
    "# Decision boundary for log regression\n",
    "x_lr = np.linspace(min(heart['age']), max(heart['age']), 100)\n",
    "y_lr = (-log_intercept - log_age * x_lr) / log_chol\n",
    "plt.plot(x_lr, y_lr, label='Logistic Regression', linestyle='--', color='green', alpha=0.7)\n",
    "\n",
    "# Decision boundary for LDA\n",
    "y_lda = (-lda_intercept - lda_age * x_lr) / lda_chol\n",
    "plt.plot(x_lr, y_lda, label='Linear Discriminant Analysis', linestyle='--', color='orange', alpha=0.7)\n",
    "\n",
    "# Decision boundary for SVC\n",
    "y_svc = (-svc_intercept - svc_age * x_lr) / svc_chol\n",
    "plt.plot(x_lr, y_svc, label='Support Vector Machine', linestyle='--', color='purple', alpha=0.7)\n",
    "\n",
    "# Plot\n",
    "plt.xlabel('Age')\n",
    "plt.ylabel('Cholesterol')\n",
    "plt.legend()\n",
    "plt.title('Scatterplot of Age and Cholesterol with Decision Boundaries')\n",
    "plt.show()\n"
   ]
  }
 ],
 "metadata": {
  "colab": {
   "provenance": []
  },
  "kernelspec": {
   "display_name": "Python 3 (ipykernel)",
   "language": "python",
   "name": "python3"
  },
  "language_info": {
   "codemirror_mode": {
    "name": "ipython",
    "version": 3
   },
   "file_extension": ".py",
   "mimetype": "text/x-python",
   "name": "python",
   "nbconvert_exporter": "python",
   "pygments_lexer": "ipython3",
   "version": "3.11.3"
  }
 },
 "nbformat": 4,
 "nbformat_minor": 1
}
