{
 "cells": [
  {
   "cell_type": "raw",
   "id": "4c5f42a0",
   "metadata": {},
   "source": [
    "---\n",
    "self-contained: true\n",
    "title: \"Practice Activity 7.1\"\n",
    "author: \"Brogan Pietrocini\"\n",
    "fontcolor: dodgerblue\n",
    "backgroundcolor: whitesmoke\n",
    "format:\n",
    "    html:\n",
    "        theme: zephyr\n",
    "---\n"
   ]
  },
  {
   "cell_type": "markdown",
   "id": "5f34dd19",
   "metadata": {},
   "source": [
    "## Chapter 13 Practice Activities (7.1)"
   ]
  },
  {
   "cell_type": "code",
   "execution_count": 59,
   "id": "dbd5db46",
   "metadata": {},
   "outputs": [],
   "source": [
    "import pandas as pd\n",
    "import numpy as np\n",
    "from sklearn.pipeline import Pipeline\n",
    "from sklearn.preprocessing import StandardScaler, OneHotEncoder, PolynomialFeatures\n",
    "from sklearn.linear_model import LinearRegression\n",
    "from sklearn.model_selection import train_test_split\n",
    "from sklearn.metrics import r2_score\n",
    "from sklearn.metrics import mean_squared_error\n",
    "from sklearn.compose import ColumnTransformer"
   ]
  },
  {
   "cell_type": "code",
   "execution_count": 60,
   "id": "b41596d0",
   "metadata": {},
   "outputs": [],
   "source": [
    "ames = pd.read_csv(r\"C:\\Users\\broga\\OneDrive\\Desktop\\MSBA\\Computing_ML\\In_class\\Week_7\\AmesHousing.csv\")\n",
    "\n",
    "housing = ames.rename(columns={'Gr Liv Area':'Size',\n",
    "                               'TotRms AbvGrd':'Number of Rooms',\n",
    "                               'Bldg Type': 'Building Type'}\n",
    "                               )"
   ]
  },
  {
   "cell_type": "markdown",
   "id": "01a8a6d3",
   "metadata": {},
   "source": [
    "## PA 1 "
   ]
  },
  {
   "cell_type": "code",
   "execution_count": 61,
   "id": "fdeccd26",
   "metadata": {},
   "outputs": [],
   "source": [
    "X = housing.drop(\"SalePrice\", axis = 1)\n",
    "y = housing[\"SalePrice\"]\n",
    "X_train, X_test, y_train, y_test = train_test_split(X, y)"
   ]
  },
  {
   "cell_type": "code",
   "execution_count": 62,
   "id": "088e7c82",
   "metadata": {},
   "outputs": [
    {
     "name": "stdout",
     "output_type": "stream",
     "text": [
      "Root Mean Squared Error: 53902.6433782437\n"
     ]
    }
   ],
   "source": [
    "#Size and # of rooms\n",
    "ct = ColumnTransformer(\n",
    "  [\n",
    "    (\"dummify\", OneHotEncoder(sparse_output = False), []),\n",
    "    (\"standardize\", StandardScaler(), [\"Size\", \"Number of Rooms\"])\n",
    "  ],\n",
    "  remainder = \"drop\"\n",
    ")\n",
    "\n",
    "\n",
    "lr_pipeline1 = Pipeline(\n",
    "  [(\"preprocessing\", ct),\n",
    "  (\"linear_regression\", LinearRegression())]\n",
    ").set_output(transform=\"pandas\")\n",
    "\n",
    "lr_pipeline1.fit(X_train, y_train)\n",
    "\n",
    "predictions = lr_pipeline1.predict(X_test)\n",
    "\n",
    "rmse = np.sqrt(mean_squared_error(y_test, predictions))\n",
    "\n",
    "print(f'Root Mean Squared Error: {rmse}')"
   ]
  },
  {
   "cell_type": "code",
   "execution_count": 63,
   "id": "e2ae1577",
   "metadata": {},
   "outputs": [
    {
     "name": "stdout",
     "output_type": "stream",
     "text": [
      "Root Mean Squared Error: 51910.46539155018\n"
     ]
    }
   ],
   "source": [
    "#Size, # of rooms, Building Type\n",
    "ct = ColumnTransformer(\n",
    "  [(\"dummify\", OneHotEncoder(sparse_output = False), [\"Building Type\"]),\n",
    "  (\"standardize\", StandardScaler(), [\"Size\", \"Number of Rooms\"])\n",
    "  ],\n",
    "  remainder = \"drop\"\n",
    ").set_output(transform = \"pandas\")\n",
    "\n",
    "\n",
    "lr_pipeline2 = Pipeline(\n",
    "  [(\"preprocessing\", ct),\n",
    "  (\"linear_regression\", LinearRegression())]\n",
    ").set_output(transform=\"pandas\")\n",
    "\n",
    "lr_pipeline2.fit(X_train, y_train)\n",
    "\n",
    "y_pred = lr_pipeline2.predict(X_test)\n",
    "\n",
    "rmse = np.sqrt(mean_squared_error(y_test, y_pred))\n",
    "\n",
    "print(f'Root Mean Squared Error: {rmse}')"
   ]
  },
  {
   "cell_type": "code",
   "execution_count": 64,
   "id": "13e85027",
   "metadata": {},
   "outputs": [
    {
     "name": "stdout",
     "output_type": "stream",
     "text": [
      "Root Mean Squared Error: 63172.2458351562\n"
     ]
    }
   ],
   "source": [
    "#Size + Building + Interaction\n",
    "\n",
    "ct = ColumnTransformer(\n",
    "  [(\"dummify\", OneHotEncoder(sparse_output = False), [\"Building Type\"]),\n",
    "   (\"standardize\", StandardScaler(), [\"Size\"])\n",
    "  ],\n",
    "  remainder = \"passthrough\"\n",
    ").set_output(transform = \"pandas\")\n",
    "\n",
    "ct_inter = ColumnTransformer(\n",
    "  [\n",
    "    (\"interaction\", PolynomialFeatures(interaction_only = True), [\"remainder__Number of Rooms\", \"dummify__Building Type_1Fam\"]),\n",
    "  ],\n",
    "  remainder = \"drop\"\n",
    ").set_output(transform = \"pandas\")\n",
    "\n",
    "\n",
    "lr_pipelineInt = Pipeline(\n",
    "  [(\"preprocessing\", ct),\n",
    "   (\"interaction\", ct_inter),\n",
    "  (\"linear_regression\", LinearRegression())]\n",
    ").set_output(transform=\"pandas\")\n",
    "\n",
    "lr_pipelineInt.fit(X_train, y_train)\n",
    "\n",
    "y_pred = lr_pipelineInt.predict(X_test)\n",
    "\n",
    "rmse = np.sqrt(mean_squared_error(y_test, y_pred))\n",
    "\n",
    "print(f'Root Mean Squared Error: {rmse}')"
   ]
  },
  {
   "cell_type": "code",
   "execution_count": 65,
   "id": "760745aa",
   "metadata": {},
   "outputs": [
    {
     "name": "stdout",
     "output_type": "stream",
     "text": [
      "Root Mean Squared Error: 66626.42258267608\n"
     ]
    }
   ],
   "source": [
    "#5 degree size, 5 degree # of rooms, Building Type\n",
    "\n",
    "#Size, # of rooms, Building Type\n",
    "ct = ColumnTransformer(\n",
    "  [(\"dummify\", OneHotEncoder(sparse_output = False), [\"Building Type\"]),\n",
    "   (\"polynomial\", PolynomialFeatures(degree=5), [\"Size\",\"Number of Rooms\"]),\n",
    "  ],\n",
    "  remainder = \"drop\"\n",
    ").set_output(transform = \"pandas\")\n",
    "\n",
    "\n",
    "lr_pipeline4 = Pipeline(\n",
    "  [(\"preprocessing\", ct),\n",
    "  (\"linear_regression\", LinearRegression())]\n",
    ").set_output(transform=\"pandas\")\n",
    "\n",
    "lr_pipeline4.fit(X_train, y_train)\n",
    "\n",
    "y_pred = lr_pipeline4.predict(X_test)\n",
    "\n",
    "rmse = np.sqrt(mean_squared_error(y_test, y_pred))\n",
    "\n",
    "print(f'Root Mean Squared Error: {rmse}')"
   ]
  },
  {
   "cell_type": "markdown",
   "id": "e938dd63",
   "metadata": {},
   "source": [
    "Model 2 performed the best with an RMSE of 53763.2785"
   ]
  },
  {
   "cell_type": "markdown",
   "id": "0e9f4627",
   "metadata": {},
   "source": [
    "## PA 2"
   ]
  },
  {
   "cell_type": "code",
   "execution_count": 66,
   "id": "7256bd9f",
   "metadata": {},
   "outputs": [],
   "source": [
    "X = housing.drop(\"SalePrice\", axis = 1)\n",
    "y = housing[\"SalePrice\"]\n",
    "X_train, X_test, y_train, y_test = train_test_split(X, y)"
   ]
  },
  {
   "cell_type": "code",
   "execution_count": 67,
   "id": "466876d2",
   "metadata": {},
   "outputs": [
    {
     "data": {
      "text/plain": [
       "55806.32634926364"
      ]
     },
     "execution_count": 67,
     "metadata": {},
     "output_type": "execute_result"
    }
   ],
   "source": [
    "from sklearn.model_selection import cross_val_score\n",
    "#Size and # of rooms\n",
    "\n",
    "ct = ColumnTransformer(\n",
    "  [\n",
    "    (\"dummify\", OneHotEncoder(sparse_output = False), []),\n",
    "    (\"standardize\", StandardScaler(), [\"Size\", \"Number of Rooms\"])\n",
    "  ],\n",
    "  remainder = \"drop\"\n",
    ")\n",
    "\n",
    "lr_pipeline_1 = Pipeline(\n",
    "  [(\"preprocessing\", ct),\n",
    "  (\"linear_regression\", LinearRegression())]\n",
    ").set_output(transform=\"pandas\")\n",
    "\n",
    "\n",
    "scores1 = cross_val_score(lr_pipeline1, X, y, cv=5, scoring='neg_mean_squared_error')\n",
    "scores1 = np.sqrt(-scores1)\n",
    "scores1.mean()"
   ]
  },
  {
   "cell_type": "code",
   "execution_count": 68,
   "id": "48f6a162",
   "metadata": {},
   "outputs": [
    {
     "data": {
      "text/plain": [
       "54168.081429193844"
      ]
     },
     "execution_count": 68,
     "metadata": {},
     "output_type": "execute_result"
    }
   ],
   "source": [
    "#Size, # of rooms, Building Type\n",
    "ct = ColumnTransformer(\n",
    "  [(\"dummify\", OneHotEncoder(sparse_output = False), [\"Building Type\"]),\n",
    "  (\"standardize\", StandardScaler(), [\"Size\", \"Number of Rooms\"])\n",
    "  ],\n",
    "  remainder = \"drop\"\n",
    ").set_output(transform = \"pandas\")\n",
    "\n",
    "\n",
    "lr_pipeline2 = Pipeline(\n",
    "  [(\"preprocessing\", ct),\n",
    "  (\"linear_regression\", LinearRegression())]\n",
    ").set_output(transform=\"pandas\")\n",
    "\n",
    "scores2 = cross_val_score(lr_pipeline2, X, y, cv=5, scoring='neg_mean_squared_error')\n",
    "scores2 = np.sqrt(-scores2)\n",
    "scores2.mean()"
   ]
  },
  {
   "cell_type": "code",
   "execution_count": 69,
   "id": "5a9a3b91",
   "metadata": {},
   "outputs": [
    {
     "data": {
      "text/plain": [
       "65218.89541567216"
      ]
     },
     "execution_count": 69,
     "metadata": {},
     "output_type": "execute_result"
    }
   ],
   "source": [
    "#Size + Building + Interaction\n",
    "\n",
    "ct = ColumnTransformer(\n",
    "  [(\"dummify\", OneHotEncoder(sparse_output = False), [\"Building Type\"]),\n",
    "   (\"standardize\", StandardScaler(), [\"Size\"])\n",
    "  ],\n",
    "  remainder = \"passthrough\"\n",
    ").set_output(transform = \"pandas\")\n",
    "\n",
    "ct_inter = ColumnTransformer(\n",
    "  [\n",
    "    (\"interaction\", PolynomialFeatures(interaction_only = True), [\"remainder__Number of Rooms\", \"dummify__Building Type_1Fam\"]),\n",
    "  ],\n",
    "  remainder = \"drop\"\n",
    ").set_output(transform = \"pandas\")\n",
    "\n",
    "\n",
    "lr_pipelineint = Pipeline(\n",
    "  [(\"preprocessing\", ct),\n",
    "   (\"interaction\", ct_inter),\n",
    "  (\"linear_regression\", LinearRegression())]\n",
    ").set_output(transform=\"pandas\")\n",
    "\n",
    "scoresInt = cross_val_score(lr_pipelineInt, X, y, cv=5, scoring='neg_mean_squared_error')\n",
    "scoresInt = np.sqrt(-scoresInt)\n",
    "scoresInt.mean()"
   ]
  },
  {
   "cell_type": "code",
   "execution_count": 70,
   "id": "08900e4e",
   "metadata": {},
   "outputs": [
    {
     "data": {
      "text/plain": [
       "59864.4399358628"
      ]
     },
     "execution_count": 70,
     "metadata": {},
     "output_type": "execute_result"
    }
   ],
   "source": [
    "#5 degree size, 5 degree # of rooms, Building Type\n",
    "\n",
    "#Size, # of rooms, Building Type\n",
    "ct = ColumnTransformer(\n",
    "  [(\"dummify\", OneHotEncoder(sparse_output = False), [\"Building Type\"]),\n",
    "   (\"polynomial\", PolynomialFeatures(degree=5), [\"Size\",\"Number of Rooms\"]),\n",
    "  ],\n",
    "  remainder = \"drop\"\n",
    ").set_output(transform = \"pandas\")\n",
    "\n",
    "\n",
    "lr_pipeline4 = Pipeline(\n",
    "  [(\"preprocessing\", ct),\n",
    "  (\"linear_regression\", LinearRegression())]\n",
    ").set_output(transform=\"pandas\")\n",
    "\n",
    "scores4 = cross_val_score(lr_pipeline4, X, y, cv=5, scoring='neg_mean_squared_error')\n",
    "scores4 = np.sqrt(-scores4)\n",
    "scores4.mean()"
   ]
  },
  {
   "cell_type": "markdown",
   "id": "faeffbe8",
   "metadata": {},
   "source": [
    "Model 2 performed the best again with a average RMSE of 54168.0814, and I prefer the cross_val_score method/answer as it requires less steps and provides a more accurate assessment."
   ]
  },
  {
   "cell_type": "markdown",
   "id": "1aadd4db",
   "metadata": {},
   "source": [
    "## PA 3"
   ]
  },
  {
   "cell_type": "code",
   "execution_count": 71,
   "id": "6ea085dd",
   "metadata": {},
   "outputs": [],
   "source": [
    "\n",
    "\n",
    "ct_poly = ColumnTransformer(\n",
    "  [\n",
    "    (\"dummify\", OneHotEncoder(sparse_output = False), [\"Building Type\"]),\n",
    "    (\"polynomial\", PolynomialFeatures(), [\"Size\",\"Number of Rooms\"])\n",
    "  ],\n",
    "  remainder = \"drop\"\n",
    ")\n",
    "\n",
    "lr_pipeline_poly = Pipeline(\n",
    "  [(\"preprocessing\", ct_poly),\n",
    "  (\"linear_regression\", LinearRegression())]\n",
    ").set_output(transform=\"pandas\")\n",
    "\n",
    "degrees = {'preprocessing__polynomial__degree': np.arange(1, 10)}\n",
    "\n",
    "gscv = GridSearchCV(lr_pipeline_poly, degrees, cv = 5, scoring='r2')"
   ]
  },
  {
   "cell_type": "code",
   "execution_count": 72,
   "id": "b9cb2ebc",
   "metadata": {},
   "outputs": [],
   "source": [
    "from sklearn.model_selection import GridSearchCV\n",
    "\n",
    "ct_poly = ColumnTransformer(\n",
    "    [\n",
    "        (\"dummify\", OneHotEncoder(sparse_output=False), [\"Building Type\"]),\n",
    "        (\"size_poly\", PolynomialFeatures(), [\"Size\"]),\n",
    "        (\"rooms_poly\", PolynomialFeatures(), [\"Number of Rooms\"])\n",
    "    ],\n",
    "    remainder=\"drop\"\n",
    ")\n",
    "\n",
    "lr_pipeline_poly = Pipeline(\n",
    "    [(\"preprocessing\", ct_poly),\n",
    "     (\"standardize\", StandardScaler()),\n",
    "     (\"linear_regression\", LinearRegression())]\n",
    ").set_output(transform=\"pandas\")\n",
    "\n",
    "degrees = {\n",
    "    'preprocessing__size_poly__degree': np.arange(1, 11),\n",
    "    'preprocessing__rooms_poly__degree': np.arange(1, 11)\n",
    "}\n",
    "\n",
    "gscv = GridSearchCV(lr_pipeline_poly, degrees, cv=5, scoring='r2')"
   ]
  },
  {
   "cell_type": "code",
   "execution_count": 73,
   "id": "4b5006cd",
   "metadata": {},
   "outputs": [
    {
     "name": "stdout",
     "output_type": "stream",
     "text": [
      "Best parameters: {'preprocessing__rooms_poly__degree': 1, 'preprocessing__size_poly__degree': 3}\n",
      "Best R-squared score: 0.558011938596334\n"
     ]
    }
   ],
   "source": [
    "gscv_fitted = gscv.fit(X, y)\n",
    "# Best parameters and best score\n",
    "print(\"Best parameters:\", gscv.best_params_)\n",
    "print(\"Best R-squared score:\", gscv.best_score_)"
   ]
  },
  {
   "cell_type": "markdown",
   "id": "2cbccdb8",
   "metadata": {},
   "source": [
    "1. The model that performed the best (R^2: 0.5580)  was the model with the 'Size' parameter to degree 3 and the \"Number of Rooms\" parameter to degree 1."
   ]
  },
  {
   "cell_type": "markdown",
   "id": "60515c4e",
   "metadata": {},
   "source": [
    "2. Trying all possible model options with a wide range of parameters takes a lot of computational power and can take more time when searching for the best model. You can limit the number of degrees or models to make the process more efficient."
   ]
  }
 ],
 "metadata": {
  "kernelspec": {
   "display_name": "Python 3 (ipykernel)",
   "language": "python",
   "name": "python3"
  },
  "language_info": {
   "codemirror_mode": {
    "name": "ipython",
    "version": 3
   },
   "file_extension": ".py",
   "mimetype": "text/x-python",
   "name": "python",
   "nbconvert_exporter": "python",
   "pygments_lexer": "ipython3",
   "version": "3.11.3"
  }
 },
 "nbformat": 4,
 "nbformat_minor": 5
}
