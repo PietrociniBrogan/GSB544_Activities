{
 "cells": [
  {
   "cell_type": "raw",
   "metadata": {},
   "source": [
    "---\n",
    "self-contained: true\n",
    "title: \"Practice Activity 9.2\"\n",
    "author: \"Brogan Pietrocini\"\n",
    "fontcolor: black\n",
    "backgroundcolor: whitesmoke\n",
    "format:\n",
    "    html:\n",
    "        theme: zephyr\n",
    "---\n"
   ]
  },
  {
   "cell_type": "code",
   "execution_count": 20,
   "metadata": {
    "id": "tZmjmGGQ1CaN"
   },
   "outputs": [],
   "source": [
    "import pandas as pd\n",
    "import numpy as np\n",
    "from sklearn.pipeline import Pipeline\n",
    "from sklearn.linear_model import LogisticRegression\n",
    "from sklearn.compose import ColumnTransformer, make_column_selector\n",
    "from sklearn.preprocessing import OneHotEncoder, StandardScaler\n",
    "from sklearn.model_selection import train_test_split, GridSearchCV, cross_val_score\n",
    "from sklearn.neighbors import KNeighborsClassifier\n",
    "from sklearn.tree import DecisionTreeClassifier\n",
    "from sklearn.metrics import roc_auc_score\n",
    "from sklearn.model_selection import GridSearchCV\n",
    "from sklearn.metrics import make_scorer, roc_auc_score\n",
    "from sklearn.model_selection import cross_val_predict\n",
    "from sklearn.metrics import confusion_matrix, precision_score, recall_score\n",
    "from sklearn.discriminant_analysis import LinearDiscriminantAnalysis"
   ]
  },
  {
   "cell_type": "markdown",
   "metadata": {
    "id": "P_N9XP2-04VH"
   },
   "source": [
    "\n",
    "Our dataset consists of clinical data from patients who entered the hospital complaining of chest pain (\"angina\") during exercise.  The information collected includes:\n",
    "\n",
    "* `age` : Age of the patient\n",
    "\n",
    "* `sex` : Sex of the patient\n",
    "\n",
    "* `cp` : Chest Pain type\n",
    "\n",
    "    + Value 0: asymptomatic\n",
    "    + Value 1: typical angina\n",
    "    + Value 2: atypical angina\n",
    "    + Value 3: non-anginal pain\n",
    "   \n",
    "    \n",
    "* `trtbps` : resting blood pressure (in mm Hg)\n",
    "\n",
    "* `chol` : cholesterol in mg/dl fetched via BMI sensor\n",
    "\n",
    "* `restecg` : resting electrocardiographic results\n",
    "\n",
    "    + Value 0: normal\n",
    "    + Value 1: having ST-T wave abnormality (T wave inversions and/or ST elevation or depression of > 0.05 mV)\n",
    "    + Value 2: showing probable or definite left ventricular hypertrophy by Estes' criteria\n",
    "\n",
    "* `thalach` : maximum heart rate achieved during exercise\n",
    "\n",
    "* `output` : the doctor's diagnosis of whether the patient is at risk for a heart attack\n",
    "    + 0 = not at risk of heart attack\n",
    "    + 1 = at risk of heart attack"
   ]
  },
  {
   "cell_type": "code",
   "execution_count": 21,
   "metadata": {
    "id": "ghXbwhv600-S"
   },
   "outputs": [
    {
     "data": {
      "text/html": [
       "<div>\n",
       "<style scoped>\n",
       "    .dataframe tbody tr th:only-of-type {\n",
       "        vertical-align: middle;\n",
       "    }\n",
       "\n",
       "    .dataframe tbody tr th {\n",
       "        vertical-align: top;\n",
       "    }\n",
       "\n",
       "    .dataframe thead th {\n",
       "        text-align: right;\n",
       "    }\n",
       "</style>\n",
       "<table border=\"1\" class=\"dataframe\">\n",
       "  <thead>\n",
       "    <tr style=\"text-align: right;\">\n",
       "      <th></th>\n",
       "      <th>age</th>\n",
       "      <th>sex</th>\n",
       "      <th>cp</th>\n",
       "      <th>trtbps</th>\n",
       "      <th>chol</th>\n",
       "      <th>restecg</th>\n",
       "      <th>thalach</th>\n",
       "      <th>output</th>\n",
       "    </tr>\n",
       "  </thead>\n",
       "  <tbody>\n",
       "    <tr>\n",
       "      <th>0</th>\n",
       "      <td>63</td>\n",
       "      <td>1</td>\n",
       "      <td>3</td>\n",
       "      <td>145</td>\n",
       "      <td>233</td>\n",
       "      <td>0</td>\n",
       "      <td>150</td>\n",
       "      <td>1</td>\n",
       "    </tr>\n",
       "    <tr>\n",
       "      <th>1</th>\n",
       "      <td>37</td>\n",
       "      <td>1</td>\n",
       "      <td>2</td>\n",
       "      <td>130</td>\n",
       "      <td>250</td>\n",
       "      <td>1</td>\n",
       "      <td>187</td>\n",
       "      <td>1</td>\n",
       "    </tr>\n",
       "    <tr>\n",
       "      <th>2</th>\n",
       "      <td>56</td>\n",
       "      <td>1</td>\n",
       "      <td>1</td>\n",
       "      <td>120</td>\n",
       "      <td>236</td>\n",
       "      <td>1</td>\n",
       "      <td>178</td>\n",
       "      <td>1</td>\n",
       "    </tr>\n",
       "    <tr>\n",
       "      <th>3</th>\n",
       "      <td>57</td>\n",
       "      <td>0</td>\n",
       "      <td>0</td>\n",
       "      <td>120</td>\n",
       "      <td>354</td>\n",
       "      <td>1</td>\n",
       "      <td>163</td>\n",
       "      <td>1</td>\n",
       "    </tr>\n",
       "    <tr>\n",
       "      <th>4</th>\n",
       "      <td>57</td>\n",
       "      <td>1</td>\n",
       "      <td>0</td>\n",
       "      <td>140</td>\n",
       "      <td>192</td>\n",
       "      <td>1</td>\n",
       "      <td>148</td>\n",
       "      <td>1</td>\n",
       "    </tr>\n",
       "  </tbody>\n",
       "</table>\n",
       "</div>"
      ],
      "text/plain": [
       "   age sex cp  trtbps  chol restecg  thalach  output\n",
       "0   63   1  3     145   233       0      150       1\n",
       "1   37   1  2     130   250       1      187       1\n",
       "2   56   1  1     120   236       1      178       1\n",
       "3   57   0  0     120   354       1      163       1\n",
       "4   57   1  0     140   192       1      148       1"
      ]
     },
     "execution_count": 21,
     "metadata": {},
     "output_type": "execute_result"
    }
   ],
   "source": [
    "heart = pd.read_csv(\"https://www.dropbox.com/s/aohbr6yb9ifmc8w/heart_attack.csv?dl=1\")\n",
    "heart['cp'] = heart['cp'].astype('category')\n",
    "heart['sex'] = heart['sex'].astype('category')\n",
    "heart['restecg'] = heart['restecg'].astype('category')\n",
    "heart.head()"
   ]
  },
  {
   "cell_type": "code",
   "execution_count": 22,
   "metadata": {},
   "outputs": [],
   "source": [
    "X = heart[[\"age\",\"chol\"]]\n",
    "y = heart[\"cp\"]"
   ]
  },
  {
   "cell_type": "code",
   "execution_count": 23,
   "metadata": {},
   "outputs": [],
   "source": [
    "ct = ColumnTransformer(\n",
    "    [\n",
    "        (\"dummify\", OneHotEncoder(sparse_output=False, handle_unknown='ignore'), \n",
    "         make_column_selector(dtype_include=['category', 'object']))      \n",
    "    ],\n",
    "    remainder=\"passthrough\"\n",
    ")\n"
   ]
  },
  {
   "cell_type": "markdown",
   "metadata": {
    "id": "OCX180v41bhe"
   },
   "source": [
    "## Q1: Natural Multiclass Models\n",
    "\n",
    "Fit a multiclass KNN, Decision Tree, and LDA for the heart disease data; this time predicting the type of chest pain (categories 0 - 3) that a patient experiences.  For the decision tree, plot the fitted tree, and interpret the first couple splits.\n"
   ]
  },
  {
   "cell_type": "markdown",
   "metadata": {},
   "source": [
    "## KNN"
   ]
  },
  {
   "cell_type": "code",
   "execution_count": 24,
   "metadata": {
    "id": "WJsMBCZh1glq"
   },
   "outputs": [
    {
     "data": {
      "text/html": [
       "<div>\n",
       "<style scoped>\n",
       "    .dataframe tbody tr th:only-of-type {\n",
       "        vertical-align: middle;\n",
       "    }\n",
       "\n",
       "    .dataframe tbody tr th {\n",
       "        vertical-align: top;\n",
       "    }\n",
       "\n",
       "    .dataframe thead th {\n",
       "        text-align: right;\n",
       "    }\n",
       "</style>\n",
       "<table border=\"1\" class=\"dataframe\">\n",
       "  <thead>\n",
       "    <tr style=\"text-align: right;\">\n",
       "      <th></th>\n",
       "      <th>k values</th>\n",
       "      <th>Acc scores</th>\n",
       "    </tr>\n",
       "  </thead>\n",
       "  <tbody>\n",
       "    <tr>\n",
       "      <th>0</th>\n",
       "      <td>25</td>\n",
       "      <td>0.454276</td>\n",
       "    </tr>\n",
       "    <tr>\n",
       "      <th>1</th>\n",
       "      <td>50</td>\n",
       "      <td>0.472458</td>\n",
       "    </tr>\n",
       "    <tr>\n",
       "      <th>2</th>\n",
       "      <td>75</td>\n",
       "      <td>0.476162</td>\n",
       "    </tr>\n",
       "    <tr>\n",
       "      <th>3</th>\n",
       "      <td>100</td>\n",
       "      <td>0.468822</td>\n",
       "    </tr>\n",
       "  </tbody>\n",
       "</table>\n",
       "</div>"
      ],
      "text/plain": [
       "   k values  Acc scores\n",
       "0        25    0.454276\n",
       "1        50    0.472458\n",
       "2        75    0.476162\n",
       "3       100    0.468822"
      ]
     },
     "execution_count": 24,
     "metadata": {},
     "output_type": "execute_result"
    }
   ],
   "source": [
    "#KNN\n",
    "#Tune to find optimal k\n",
    "\n",
    "knn_pipeline = Pipeline(\n",
    "    [(\"preprocessing\", ct),\n",
    "     (\"knn\", KNeighborsClassifier())]\n",
    ")\n",
    "\n",
    "k_values = [25,50,75, 100]  \n",
    "\n",
    "# Parameter grid for GridSearchCV\n",
    "k_param = {'knn__n_neighbors': k_values}\n",
    "\n",
    "gscv = GridSearchCV(knn_pipeline, k_param, cv=5, scoring='accuracy')\n",
    "\n",
    "#Fit to data\n",
    "gscv_fitted = gscv.fit(X, y)\n",
    "\n",
    "accuracy_scores = gscv_fitted.cv_results_['mean_test_score']\n",
    "\n",
    "pd.DataFrame(data={\"k values\": k_values, \"Acc scores\": accuracy_scores})"
   ]
  },
  {
   "cell_type": "code",
   "execution_count": 25,
   "metadata": {},
   "outputs": [
    {
     "name": "stdout",
     "output_type": "stream",
     "text": [
      "KNN Accuracy: 0.4761616161616161\n"
     ]
    }
   ],
   "source": [
    "#Using optimal k = 75\n",
    "\n",
    "knn_pipeline50 = Pipeline(\n",
    "    [(\"preprocessing\", ct),\n",
    "     (\"knn\", KNeighborsClassifier(n_neighbors=75))]\n",
    ")\n",
    "\n",
    "#Fit on data\n",
    "knn_model = knn_pipeline50.fit(X,y)\n",
    "\n",
    "#Get AUC ROC score\n",
    "scoresknn = cross_val_score(knn_model, X, y, cv=5, scoring='accuracy')\n",
    "\n",
    "knn_acc = scoresknn.mean()\n",
    "\n",
    "print(f\"KNN Accuracy: {knn_acc}\")"
   ]
  },
  {
   "cell_type": "markdown",
   "metadata": {},
   "source": [
    "## Decision Tree"
   ]
  },
  {
   "cell_type": "code",
   "execution_count": 26,
   "metadata": {},
   "outputs": [
    {
     "data": {
      "text/html": [
       "<div>\n",
       "<style scoped>\n",
       "    .dataframe tbody tr th:only-of-type {\n",
       "        vertical-align: middle;\n",
       "    }\n",
       "\n",
       "    .dataframe tbody tr th {\n",
       "        vertical-align: top;\n",
       "    }\n",
       "\n",
       "    .dataframe thead th {\n",
       "        text-align: right;\n",
       "    }\n",
       "</style>\n",
       "<table border=\"1\" class=\"dataframe\">\n",
       "  <thead>\n",
       "    <tr style=\"text-align: right;\">\n",
       "      <th></th>\n",
       "      <th>min_samples_leaf</th>\n",
       "      <th>Acc scores</th>\n",
       "    </tr>\n",
       "  </thead>\n",
       "  <tbody>\n",
       "    <tr>\n",
       "      <th>0</th>\n",
       "      <td>1</td>\n",
       "      <td>0.362290</td>\n",
       "    </tr>\n",
       "    <tr>\n",
       "      <th>1</th>\n",
       "      <td>50</td>\n",
       "      <td>0.450438</td>\n",
       "    </tr>\n",
       "    <tr>\n",
       "      <th>2</th>\n",
       "      <td>75</td>\n",
       "      <td>0.461549</td>\n",
       "    </tr>\n",
       "    <tr>\n",
       "      <th>3</th>\n",
       "      <td>100</td>\n",
       "      <td>0.439529</td>\n",
       "    </tr>\n",
       "  </tbody>\n",
       "</table>\n",
       "</div>"
      ],
      "text/plain": [
       "   min_samples_leaf  Acc scores\n",
       "0                 1    0.362290\n",
       "1                50    0.450438\n",
       "2                75    0.461549\n",
       "3               100    0.439529"
      ]
     },
     "execution_count": 26,
     "metadata": {},
     "output_type": "execute_result"
    }
   ],
   "source": [
    "#Dt Tuning\n",
    "\n",
    "# Create a Decision Tree pipeline\n",
    "dt_pipeline = Pipeline([\n",
    "    (\"preprocessing\", ct),\n",
    "    (\"decision_tree\", DecisionTreeClassifier())\n",
    "])\n",
    "\n",
    "leaf_values = [1,50,75,100]\n",
    "\n",
    "leaf_param = {\n",
    "    'decision_tree__min_samples_leaf': leaf_values\n",
    "}\n",
    "\n",
    "gscv = GridSearchCV(dt_pipeline, leaf_param, cv=5, scoring='accuracy')\n",
    "\n",
    "gscv.fit(X, y)\n",
    "\n",
    "acc_scores = gscv.cv_results_['mean_test_score']\n",
    "\n",
    "results_df = pd.DataFrame(data={\"min_samples_leaf\": leaf_values, \"Acc scores\": acc_scores})\n",
    "\n",
    "results_df\n"
   ]
  },
  {
   "cell_type": "code",
   "execution_count": 27,
   "metadata": {},
   "outputs": [
    {
     "name": "stdout",
     "output_type": "stream",
     "text": [
      "DT Accuracy: 0.4615488215488216\n"
     ]
    }
   ],
   "source": [
    "#Using optimal minsamplesleaf = 75\n",
    "\n",
    "dt_pipeline75 = Pipeline([\n",
    "    (\"preprocessing\", ct),\n",
    "    (\"decision_tree\", DecisionTreeClassifier(min_samples_leaf=75))\n",
    "])\n",
    "\n",
    "#Fit on data\n",
    "dt_model = dt_pipeline75.fit(X,y)\n",
    "\n",
    "#Get AUC ROC score\n",
    "scoresdt = cross_val_score(dt_model, X, y, cv=5, scoring='accuracy')\n",
    "\n",
    "dt_acc = scoresdt.mean()\n",
    "\n",
    "print(f\"DT Accuracy: {dt_acc}\")\n"
   ]
  },
  {
   "cell_type": "code",
   "execution_count": 28,
   "metadata": {},
   "outputs": [
    {
     "data": {
      "image/png": "[encoded data removed]",
      "text/plain": [
       "<Figure size 1200x800 with 1 Axes>"
      ]
     },
     "metadata": {},
     "output_type": "display_data"
    }
   ],
   "source": [
    "import matplotlib.pyplot as plt\n",
    "from sklearn.tree import plot_tree\n",
    "\n",
    "# Assuming dt_model is your trained DecisionTreeClassifier from the pipeline\n",
    "# Note: We extract the decision tree model from the pipeline\n",
    "decision_tree_model = dt_pipeline75.named_steps['decision_tree']\n",
    "\n",
    "# Plot the decision tree\n",
    "plt.figure(figsize=(12,8))  # Set the size of the figure\n",
    "plot_tree(decision_tree_model, filled=True, feature_names=X.columns, class_names=True, rounded=True)\n",
    "plt.show()\n"
   ]
  },
  {
   "cell_type": "markdown",
   "metadata": {},
   "source": [
    "It looks like min_samples_leaf set to 75 gives the highest accuracy score for the Decision Tree. 54.5 years old looks to be a major factor in a patient having some form of chest pain."
   ]
  },
  {
   "cell_type": "markdown",
   "metadata": {},
   "source": [
    "## LDA"
   ]
  },
  {
   "cell_type": "code",
   "execution_count": 29,
   "metadata": {},
   "outputs": [
    {
     "name": "stdout",
     "output_type": "stream",
     "text": [
      "LDA Accuracy: 0.4468013468013468\n"
     ]
    }
   ],
   "source": [
    "#LDA\n",
    "\n",
    "lda_pipeline = Pipeline([\n",
    "    (\"preprocessing\", ct),\n",
    "    (\"LDA\", LinearDiscriminantAnalysis())\n",
    "])\n",
    "\n",
    "#Fit on data\n",
    "lda_model = lda_pipeline.fit(X,y)\n",
    "\n",
    "#Get AUC ROC score\n",
    "scoreslda = cross_val_score(lda_model, X, y, cv=5, scoring='accuracy')\n",
    "\n",
    "lda_acc = scoreslda.mean()\n",
    "\n",
    "print(f\"LDA Accuracy: {lda_acc}\")"
   ]
  },
  {
   "cell_type": "markdown",
   "metadata": {
    "id": "gYqpOtbO1EAJ"
   },
   "source": [
    "## Q2:  OvR\n",
    "\n",
    "Create a new column in the `ha` dataset called `cp_is_3`, which is equal to `1` if the `cp` variable is equal to `3` and `0` otherwise.\n",
    "\n",
    "Then, fit a Logistic Regression to predict this new target, and report the **F1 Score**.\n",
    "\n",
    "Repeat for the other three `cp` categories.  Which category was the OvR approach best at distinguishing?"
   ]
  },
  {
   "cell_type": "code",
   "execution_count": 30,
   "metadata": {
    "id": "90PfjsjW1T2Y"
   },
   "outputs": [],
   "source": [
    "#Create new columns\n",
    "heart['cp_is_3'] = (heart['cp'] == 3).astype(int)\n",
    "heart['cp_is_3'] = heart['cp_is_3'].astype('category')\n",
    "\n",
    "heart['cp_is_2'] = (heart['cp'] == 2).astype(int)\n",
    "heart['cp_is_2'] = heart['cp_is_2'].astype('category')\n",
    "\n",
    "heart['cp_is_1'] = (heart['cp'] == 1).astype(int)\n",
    "heart['cp_is_1'] = heart['cp_is_1'].astype('category')\n",
    "\n",
    "heart['cp_is_0'] = (heart['cp'] == 0).astype(int)\n",
    "heart['cp_is_0'] = heart['cp_is_0'].astype('category')"
   ]
  },
  {
   "cell_type": "code",
   "execution_count": 31,
   "metadata": {},
   "outputs": [
    {
     "name": "stdout",
     "output_type": "stream",
     "text": [
      "cp = 3 Logistic Regression F1 Score: 0.48098693759071115\n"
     ]
    }
   ],
   "source": [
    "X = heart[[\"age\", \"chol\"]]\n",
    "y = heart[\"cp_is_3\"]\n",
    "\n",
    "X_train, X_test, y_train, y_test = train_test_split(X, y, test_size=0.6, random_state=1)\n",
    "\n",
    "# Logistic regression pipeline\n",
    "log_pipeline = Pipeline([\n",
    "    (\"preprocessing\", ct),\n",
    "    (\"logistic_regression\", LogisticRegression())\n",
    "])\n",
    "\n",
    "# Fit on training data\n",
    "log_model = log_pipeline.fit(X,y)\n",
    "\n",
    "# Get F1 score\n",
    "scoreslog = cross_val_score(log_model, X, y, cv=5, scoring='f1_macro')\n",
    "\n",
    "log_f1 = scoreslog.mean()\n",
    "\n",
    "print(f\"cp = 3 Logistic Regression F1 Score: {log_f1}\")\n"
   ]
  },
  {
   "cell_type": "code",
   "execution_count": 32,
   "metadata": {},
   "outputs": [
    {
     "name": "stdout",
     "output_type": "stream",
     "text": [
      "cp = 2 Logistic Regression F1 Score: 0.41289526822038536\n"
     ]
    }
   ],
   "source": [
    "X = heart[[\"age\",\"chol\"]]\n",
    "y = heart[\"cp_is_2\"]\n",
    "\n",
    "X_train, X_test, y_train, y_test = train_test_split(X, y, test_size=0.6, random_state=1)\n",
    "\n",
    "# Logistic regression pipeline\n",
    "log_pipeline = Pipeline([\n",
    "    (\"preprocessing\", ct),\n",
    "    (\"logistic_regression\", LogisticRegression())\n",
    "])\n",
    "\n",
    "# Fit on training data\n",
    "log_model = log_pipeline.fit(X, y)\n",
    "\n",
    "# Get F1 score\n",
    "scoreslog = cross_val_score(log_model, X, y, cv=5, scoring='f1_macro')\n",
    "\n",
    "log_f1 = scoreslog.mean()\n",
    "\n",
    "print(f\"cp = 2 Logistic Regression F1 Score: {log_f1}\")"
   ]
  },
  {
   "cell_type": "code",
   "execution_count": 33,
   "metadata": {},
   "outputs": [
    {
     "name": "stdout",
     "output_type": "stream",
     "text": [
      " cp = 1 Logistic Regression F1 Score: 0.45617641764176414\n"
     ]
    }
   ],
   "source": [
    "X = heart[[\"age\",\"chol\"]]\n",
    "y = heart[\"cp_is_1\"]\n",
    "\n",
    "X_train, X_test, y_train, y_test = train_test_split(X, y, test_size=0.6, random_state=1)\n",
    "\n",
    "# Logistic regression pipeline\n",
    "log_pipeline = Pipeline([\n",
    "    (\"preprocessing\", ct),\n",
    "    (\"logistic_regression\", LogisticRegression())\n",
    "])\n",
    "\n",
    "# Fit on training data\n",
    "log_model = log_pipeline.fit(X, y)\n",
    "\n",
    "# Get F1 score\n",
    "scoreslog = cross_val_score(log_model, X, y, cv=5, scoring='f1_macro')\n",
    "\n",
    "log_f1 = scoreslog.mean()\n",
    "\n",
    "print(f\" cp = 1 Logistic Regression F1 Score: {log_f1}\")"
   ]
  },
  {
   "cell_type": "code",
   "execution_count": 34,
   "metadata": {},
   "outputs": [
    {
     "name": "stdout",
     "output_type": "stream",
     "text": [
      " cp = 0 Logistic Regression F1 Score: 0.5486327137775371\n"
     ]
    }
   ],
   "source": [
    "X = heart[[\"age\",\"chol\"]]\n",
    "y = heart[\"cp_is_0\"]\n",
    "\n",
    "X_train, X_test, y_train, y_test = train_test_split(X, y, test_size=0.6, random_state=1)\n",
    "\n",
    "# Logistic regression pipeline\n",
    "log_pipeline = Pipeline([\n",
    "    (\"preprocessing\", ct),\n",
    "    (\"logistic_regression\", LogisticRegression())\n",
    "])\n",
    "\n",
    "# Fit on training data\n",
    "log_model = log_pipeline.fit(X, y)\n",
    "\n",
    "# Get F1 score\n",
    "scoreslog = cross_val_score(log_model, X, y, cv=5, scoring='f1_macro')\n",
    "\n",
    "log_f1 = scoreslog.mean()\n",
    "\n",
    "print(f\" cp = 0 Logistic Regression F1 Score: {log_f1}\")"
   ]
  },
  {
   "cell_type": "markdown",
   "metadata": {},
   "source": [
    "cp = 0 had the best F1 score and therefore was the best at distinguishing."
   ]
  },
  {
   "cell_type": "markdown",
   "metadata": {
    "id": "lXO3jbTU1ULR"
   },
   "source": [
    "## Q3: OvO\n",
    "\n",
    "Reduce your dataset to only the `0` and `1` types of chest pain.\n",
    "\n",
    "Then, fit a Logistic Regression to predict between the two groups, and report the **ROC-AUC**.  \n",
    "\n",
    "Repeat comparing category `0` to `2` and `3`.  Which pair was the OvO approach best at distinguishing?"
   ]
  },
  {
   "cell_type": "code",
   "execution_count": 35,
   "metadata": {},
   "outputs": [
    {
     "name": "stdout",
     "output_type": "stream",
     "text": [
      "Zero One ROC AUC: 0.6096410256410256\n"
     ]
    }
   ],
   "source": [
    "# 0 and 1\n",
    "\n",
    "zero_one = heart[heart['cp'].isin([0,1])]\n",
    "\n",
    "X = zero_one[[\"age\",\"chol\"]]\n",
    "y = zero_one[\"cp\"]\n",
    "\n",
    "log_pipeline = Pipeline([\n",
    "    (\"preprocessing\", ct),\n",
    "    (\"logistic_regression\", LogisticRegression())\n",
    "])\n",
    "\n",
    "# Fit on training data\n",
    "zero_one_log_model = log_pipeline.fit(X, y)\n",
    "\n",
    "\n",
    "#Get AUC ROC score\n",
    "scoreslog_zero_one = cross_val_score(zero_one_log_model, X, y, cv=5, scoring='roc_auc')\n",
    "\n",
    "zero_one_roc = scoreslog_zero_one.mean()\n",
    "\n",
    "print(f\"Zero One ROC AUC: {zero_one_roc}\")"
   ]
  },
  {
   "cell_type": "code",
   "execution_count": 36,
   "metadata": {},
   "outputs": [
    {
     "name": "stdout",
     "output_type": "stream",
     "text": [
      "Zero Two ROC AUC: 0.5822319004524886\n"
     ]
    }
   ],
   "source": [
    "# 0 and 2\n",
    "\n",
    "zero_2 = heart[heart['cp'].isin([0,2])]\n",
    "\n",
    "X = zero_2[[\"age\",\"chol\"]]\n",
    "y = zero_2[\"cp\"]\n",
    "\n",
    "log_pipeline = Pipeline([\n",
    "    (\"preprocessing\", ct),\n",
    "    (\"logistic_regression\", LogisticRegression())\n",
    "])\n",
    "\n",
    "# Fit on training data\n",
    "zero_2_log_model = log_pipeline.fit(X, y)\n",
    "\n",
    "\n",
    "#Get AUC ROC score\n",
    "scoreslog_zero_2 = cross_val_score(zero_2_log_model, X, y, cv=5, scoring='roc_auc')\n",
    "\n",
    "zero_2_roc = scoreslog_zero_2.mean()\n",
    "\n",
    "print(f\"Zero Two ROC AUC: {zero_2_roc}\")"
   ]
  },
  {
   "cell_type": "code",
   "execution_count": 37,
   "metadata": {},
   "outputs": [
    {
     "name": "stdout",
     "output_type": "stream",
     "text": [
      "Zero Three ROC AUC: 0.37907692307692303\n"
     ]
    }
   ],
   "source": [
    "# 0 and 3\n",
    "\n",
    "zero_3 = heart[heart['cp'].isin([0,3])]\n",
    "\n",
    "X = zero_3[[\"age\",\"chol\"]]\n",
    "y = zero_3[\"cp\"]\n",
    "\n",
    "log_pipeline = Pipeline([\n",
    "    (\"preprocessing\", ct),\n",
    "    (\"logistic_regression\", LogisticRegression())\n",
    "])\n",
    "\n",
    "# Fit on training data\n",
    "zero_3_log_model = log_pipeline.fit(X, y)\n",
    "\n",
    "\n",
    "#Get AUC ROC score\n",
    "scoreslog_zero_3 = cross_val_score(zero_3_log_model, X, y, cv=5, scoring='roc_auc')\n",
    "\n",
    "zero_3_roc = scoreslog_zero_3.mean()\n",
    "\n",
    "print(f\"Zero Three ROC AUC: {zero_3_roc}\")"
   ]
  },
  {
   "cell_type": "markdown",
   "metadata": {},
   "source": [
    "Zero and One had the highest ROC-AUC score out of all the one v one models."
   ]
  }
 ],
 "metadata": {
  "colab": {
   "provenance": []
  },
  "kernelspec": {
   "display_name": "Python 3 (ipykernel)",
   "language": "python",
   "name": "python3"
  },
  "language_info": {
   "codemirror_mode": {
    "name": "ipython",
    "version": 3
   },
   "file_extension": ".py",
   "mimetype": "text/x-python",
   "name": "python",
   "nbconvert_exporter": "python",
   "pygments_lexer": "ipython3",
   "version": "3.11.3"
  }
 },
 "nbformat": 4,
 "nbformat_minor": 1
}
