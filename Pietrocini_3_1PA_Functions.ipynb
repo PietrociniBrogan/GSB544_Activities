{
 "cells": [
  {
   "cell_type": "raw",
   "metadata": {},
   "source": [
    "---\n",
    "self-contained: true\n",
    "title: \"3.1 Activity\"\n",
    "author: \"Brogan Pietrocini\"\n",
    "backgroundcolor: whitesmoke\n",
    "format:\n",
    "    html:\n",
    "        theme: zephyr\n",
    "---\n"
   ]
  },
  {
   "cell_type": "code",
   "execution_count": null,
   "metadata": {
    "id": "ft_WYOPgkcCM"
   },
   "outputs": [],
   "source": [
    "#!pip install palmerpenguins"
   ]
  },
  {
   "cell_type": "code",
   "execution_count": null,
   "metadata": {
    "id": "b69ul3XcoRQv"
   },
   "outputs": [],
   "source": [
    "import numpy as np\n",
    "import pandas as pd\n",
    "from sys import exit\n",
    "from palmerpenguins import load_penguins\n",
    "from plotnine import ggplot, aes, geom_point, geom_bar"
   ]
  },
  {
   "cell_type": "markdown",
   "metadata": {
    "id": "1Q8_a-5qociG"
   },
   "source": [
    "1. Fill in the necessary code to write a function called `times_seven()`. The function should take a single argument (`x`) and multiply the input by 7.\n",
    "  + This function should check that the argument is numeric.\n",
    "  + This function should also excitedly announce (print) *“I love sevens!”* if the argument to the function is a 7."
   ]
  },
  {
   "cell_type": "code",
   "execution_count": null,
   "metadata": {
    "id": "l5CW0nuloYzy"
   },
   "outputs": [],
   "source": [
    "def times_seven(x):\n",
    "\n",
    "  xtimesseven = (x)*7\n",
    "\n",
    "  if not isinstance(x, (int, float)):\n",
    "        return \"Input is not numeric\"\n",
    "\n",
    "  if x==7:\n",
    "    print(\"I love sevens!\")\n",
    "\n",
    "  return xtimesseven"
   ]
  },
  {
   "cell_type": "code",
   "execution_count": null,
   "metadata": {
    "colab": {
     "base_uri": "https://localhost:8080/"
    },
    "id": "Dr1YHK2zaL4w",
    "outputId": "b8195c4f-fd27-4283-f305-f1121b871bed"
   },
   "outputs": [
    {
     "name": "stdout",
     "output_type": "stream",
     "text": [
      "I love sevens!\n"
     ]
    },
    {
     "data": {
      "text/plain": [
       "49"
      ]
     },
     "execution_count": 5,
     "metadata": {},
     "output_type": "execute_result"
    }
   ],
   "source": [
    "times_seven(7)"
   ]
  },
  {
   "cell_type": "markdown",
   "metadata": {
    "id": "nonjYlruotrq"
   },
   "source": [
    "2. Write and run some *unit tests* for your `times_seven` function.  What happens if the input to the function is `[1, 3, 5, 7]`?"
   ]
  },
  {
   "cell_type": "code",
   "execution_count": null,
   "metadata": {
    "colab": {
     "base_uri": "https://localhost:8080/",
     "height": 35
    },
    "id": "mPlaaYewZKoT",
    "outputId": "19df8e9a-8214-4e5a-fbda-ecca109fbcd4"
   },
   "outputs": [
    {
     "data": {
      "application/vnd.google.colaboratory.intrinsic+json": {
       "type": "string"
      },
      "text/plain": [
       "'Input is not numeric'"
      ]
     },
     "execution_count": 6,
     "metadata": {},
     "output_type": "execute_result"
    }
   ],
   "source": [
    "times_seven([1,3,5,7])"
   ]
  },
  {
   "cell_type": "markdown",
   "metadata": {
    "id": "98sLHKBno39e"
   },
   "source": [
    "3. Consider the following function:"
   ]
  },
  {
   "cell_type": "code",
   "execution_count": null,
   "metadata": {
    "id": "V1xGEwq-o5mh"
   },
   "outputs": [],
   "source": [
    "def add_or_subtract(first_num, second_num = 2, type = \"add\"):\n",
    "\n",
    "  if (type == \"add\"):\n",
    "    res = first_num + second_num\n",
    "  elif (type == \"subtract\"):\n",
    "    res = first_num - second_num\n",
    "  else:\n",
    "    exit(\"Please choose `add` or `subtract` as the type.\")\n",
    "\n",
    "  return res"
   ]
  },
  {
   "cell_type": "markdown",
   "metadata": {
    "id": "KIzEYgR1pI0K"
   },
   "source": [
    "**Without running the code**, predict if the following will produce:\n",
    "\n",
    "a. 1\n",
    "\n",
    "b. -1\n",
    "\n",
    "c. 30\n",
    "\n",
    "d. An error defined by the function `add_or_subtract()`\n",
    "\n",
    "e. An error defined in a different function, which is called inside the `add_or_subtract()` function"
   ]
  },
  {
   "cell_type": "code",
   "execution_count": null,
   "metadata": {
    "id": "AKN_fkigpHIS"
   },
   "outputs": [],
   "source": [
    "add_or_subtract(5, 6, type = \"subtract\")\n",
    "\n",
    "add_or_subtract(\"orange\")\n",
    "\n",
    "add_or_subtract(5, 6, type = \"multiply\")\n"
   ]
  },
  {
   "cell_type": "markdown",
   "metadata": {
    "id": "r8t0v_JkgoJI"
   },
   "source": [
    "Line one will produce -1, because 5 - 6 = -1 , even though it says second_num = 2, the = 2 is not recognized in the argument for the function. Line two will produce an error code defined in a different function, because it does not include all of the neccessary arguments for the defined add_or_subtract function. Line 3 will produce an error defined by the function because all the arguments are included, just the value entered for type= is invlaid."
   ]
  },
  {
   "cell_type": "markdown",
   "metadata": {
    "id": "Z0_cVjgdpOSr"
   },
   "source": [
    "4. Consider the following code:"
   ]
  },
  {
   "cell_type": "code",
   "execution_count": null,
   "metadata": {
    "id": "G4ImmGWGpekK"
   },
   "outputs": [],
   "source": [
    "first_num  = 5\n",
    "second_num = 3\n",
    "\n",
    "result = 8\n",
    "\n",
    "result = add_or_subtract(first_num, second_num = 4)\n",
    "\n",
    "result_2 = add_or_subtract(first_num)"
   ]
  },
  {
   "cell_type": "markdown",
   "metadata": {
    "id": "K0I7k29Qpjfo"
   },
   "source": [
    "\n",
    "In your Global Environment, what is the value of...\n",
    "\n",
    "a. `first_num`\n",
    "\n",
    "b. `second_num`\n",
    "\n",
    "c. `result`\n",
    "\n",
    "d. `result_2`"
   ]
  },
  {
   "cell_type": "code",
   "execution_count": null,
   "metadata": {
    "colab": {
     "base_uri": "https://localhost:8080/"
    },
    "id": "KrLfdf8WYBHa",
    "outputId": "4a902862-7cb9-4ba2-fdc3-d22c3eb13245"
   },
   "outputs": [
    {
     "data": {
      "text/plain": [
       "5"
      ]
     },
     "execution_count": 33,
     "metadata": {},
     "output_type": "execute_result"
    }
   ],
   "source": [
    "first_num"
   ]
  },
  {
   "cell_type": "code",
   "execution_count": null,
   "metadata": {
    "colab": {
     "base_uri": "https://localhost:8080/"
    },
    "id": "gs1AwAQ_jvvJ",
    "outputId": "6bb42c33-c6af-4137-e3f1-da77538fd62e"
   },
   "outputs": [
    {
     "data": {
      "text/plain": [
       "3"
      ]
     },
     "execution_count": 34,
     "metadata": {},
     "output_type": "execute_result"
    }
   ],
   "source": [
    "second_num"
   ]
  },
  {
   "cell_type": "code",
   "execution_count": null,
   "metadata": {
    "colab": {
     "base_uri": "https://localhost:8080/"
    },
    "id": "UIKQdcnnjv_O",
    "outputId": "da8a85ca-9da7-4eff-ca68-ab33286e2538"
   },
   "outputs": [
    {
     "data": {
      "text/plain": [
       "9"
      ]
     },
     "execution_count": 35,
     "metadata": {},
     "output_type": "execute_result"
    }
   ],
   "source": [
    "result"
   ]
  },
  {
   "cell_type": "code",
   "execution_count": null,
   "metadata": {
    "colab": {
     "base_uri": "https://localhost:8080/"
    },
    "id": "AxBbDEuWjwGc",
    "outputId": "c165c730-3cd9-4850-e0d4-5666413788ee"
   },
   "outputs": [
    {
     "data": {
      "text/plain": [
       "7"
      ]
     },
     "execution_count": 36,
     "metadata": {},
     "output_type": "execute_result"
    }
   ],
   "source": [
    "result_2"
   ]
  }
 ],
 "metadata": {
  "colab": {
   "provenance": []
  },
  "kernelspec": {
   "display_name": "Python 3 (ipykernel)",
   "language": "python",
   "name": "python3"
  },
  "language_info": {
   "codemirror_mode": {
    "name": "ipython",
    "version": 3
   },
   "file_extension": ".py",
   "mimetype": "text/x-python",
   "name": "python",
   "nbconvert_exporter": "python",
   "pygments_lexer": "ipython3",
   "version": "3.11.3"
  }
 },
 "nbformat": 4,
 "nbformat_minor": 1
}
